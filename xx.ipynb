{
 "cells": [
  {
   "cell_type": "code",
   "execution_count": 17,
   "source": [
    "import torch\r\n",
    "import torch.nn as nn\r\n",
    "import torch.nn.functional as F\r\n",
    "from functools import partial\r\n",
    "\r\n",
    "import kornia\r\n",
    "\r\n",
    "from math import exp\r\n",
    "\r\n",
    "use_cuda = torch.cuda.is_available()\r\n",
    "device = torch.device('cuda' if use_cuda else 'cpu')\r\n"
   ],
   "outputs": [],
   "metadata": {}
  },
  {
   "cell_type": "code",
   "execution_count": null,
   "source": [],
   "outputs": [],
   "metadata": {}
  },
  {
   "cell_type": "code",
   "execution_count": 2,
   "source": [
    "print(device)"
   ],
   "outputs": [
    {
     "output_type": "stream",
     "name": "stdout",
     "text": [
      "cpu\n"
     ]
    }
   ],
   "metadata": {}
  },
  {
   "cell_type": "code",
   "execution_count": 3,
   "source": [
    "a=torch.arange(0,6).view(2,3)\r\n",
    "b=a.unsqueeze(0)\r\n",
    "print(b)"
   ],
   "outputs": [
    {
     "output_type": "stream",
     "name": "stdout",
     "text": [
      "tensor([[[0, 1, 2],\n",
      "         [3, 4, 5]]])\n"
     ]
    }
   ],
   "metadata": {}
  },
  {
   "cell_type": "code",
   "execution_count": 4,
   "source": [
    "a = torch.arange(0, 6).view(2, 3)\r\n",
    "b = a.unsqueeze(1)\r\n",
    "print(b)\r\n"
   ],
   "outputs": [
    {
     "output_type": "stream",
     "name": "stdout",
     "text": [
      "tensor([[[0, 1, 2]],\n",
      "\n",
      "        [[3, 4, 5]]])\n"
     ]
    }
   ],
   "metadata": {}
  },
  {
   "cell_type": "code",
   "execution_count": 5,
   "source": [
    "Gx = torch.tensor([[-1.0, 0.0, 1.0], [-1.0, 0.0, 1.0], [-1.0, 0.0, 1.0]]) / 3\r\n",
    "Gy = torch.tensor(\r\n",
    "    [[1.0, 1.0, 1.0], [0.0, 0.0, 0.0], [-1.0, -1.0, -1.0]]) / 3\r\n",
    "G = torch.cat([Gx.unsqueeze(0), Gy.unsqueeze(0)], 0)\r\n",
    "print(Gx.unsqueeze(0).size())\r\n",
    "G = G.unsqueeze(1)\r\n",
    "print(G.size())\r\n"
   ],
   "outputs": [
    {
     "output_type": "stream",
     "name": "stdout",
     "text": [
      "torch.Size([1, 3, 3])\n",
      "torch.Size([2, 1, 3, 3])\n"
     ]
    }
   ],
   "metadata": {}
  },
  {
   "cell_type": "code",
   "execution_count": 6,
   "source": [
    "filter = nn.Conv2d(in_channels=1, out_channels=2,\r\n",
    "                   kernel_size=3, stride=1, padding=0, bias=False)\r\n",
    "Gx = torch.tensor([[-1.0, 0.0, 1.0], [-1.0, 0.0, 1.0], [-1.0, 0.0, 1.0]]) / 3\r\n",
    "Gy = torch.tensor(\r\n",
    "    [[1.0, 1.0, 1.0], [0.0, 0.0, 0.0], [-1.0, -1.0, -1.0]]) / 3\r\n",
    "G = torch.cat([Gx.unsqueeze(0), Gy.unsqueeze(0)], 0)  # 得到一个2x3x3的矩阵\r\n",
    "G = G.unsqueeze(1).to(device)\r\n",
    "filter.weight = nn.Parameter(\r\n",
    "    G, requires_grad=False)  # requires_grad是否需要计算中保留其对应需要的梯度信息\r\n",
    "print(filter.weight.size())"
   ],
   "outputs": [
    {
     "output_type": "stream",
     "name": "stdout",
     "text": [
      "torch.Size([2, 1, 3, 3])\n"
     ]
    }
   ],
   "metadata": {}
  },
  {
   "cell_type": "code",
   "execution_count": 7,
   "source": [
    "t_0=torch.randn(3,3)\r\n",
    "t_1=torch.ones_like(t_0)\r\n"
   ],
   "outputs": [],
   "metadata": {}
  },
  {
   "cell_type": "code",
   "execution_count": 8,
   "source": [
    "t_0"
   ],
   "outputs": [
    {
     "output_type": "execute_result",
     "data": {
      "text/plain": [
       "tensor([[-1.1836,  1.6058, -0.5238],\n",
       "        [ 0.7790, -0.4548, -1.0345],\n",
       "        [-1.2927,  1.2370,  0.4749]])"
      ]
     },
     "metadata": {},
     "execution_count": 8
    }
   ],
   "metadata": {}
  },
  {
   "cell_type": "code",
   "execution_count": 9,
   "source": [
    "t_1"
   ],
   "outputs": [
    {
     "output_type": "execute_result",
     "data": {
      "text/plain": [
       "tensor([[1., 1., 1.],\n",
       "        [1., 1., 1.],\n",
       "        [1., 1., 1.]])"
      ]
     },
     "metadata": {},
     "execution_count": 9
    }
   ],
   "metadata": {}
  },
  {
   "cell_type": "code",
   "execution_count": 10,
   "source": [
    "torch.mul(t_0,t_1)"
   ],
   "outputs": [
    {
     "output_type": "execute_result",
     "data": {
      "text/plain": [
       "tensor([[-1.1836,  1.6058, -0.5238],\n",
       "        [ 0.7790, -0.4548, -1.0345],\n",
       "        [-1.2927,  1.2370,  0.4749]])"
      ]
     },
     "metadata": {},
     "execution_count": 10
    }
   ],
   "metadata": {}
  },
  {
   "cell_type": "code",
   "execution_count": 11,
   "source": [
    "X = torch.sum(t_0, dim=0, keepdim=True)\r\n",
    "print(X)\r\n",
    "X.size()\r\n"
   ],
   "outputs": [
    {
     "output_type": "stream",
     "name": "stdout",
     "text": [
      "tensor([[-1.6974,  2.3881, -1.0833]])\n"
     ]
    },
    {
     "output_type": "execute_result",
     "data": {
      "text/plain": [
       "torch.Size([1, 3])"
      ]
     },
     "metadata": {},
     "execution_count": 11
    }
   ],
   "metadata": {}
  },
  {
   "cell_type": "code",
   "execution_count": 12,
   "source": [
    "ff=torch.mean(t_0,dim=1,keepdim=True)"
   ],
   "outputs": [],
   "metadata": {}
  },
  {
   "cell_type": "code",
   "execution_count": 13,
   "source": [
    "ff.size(-1)"
   ],
   "outputs": [
    {
     "output_type": "execute_result",
     "data": {
      "text/plain": [
       "1"
      ]
     },
     "metadata": {},
     "execution_count": 13
    }
   ],
   "metadata": {}
  },
  {
   "cell_type": "code",
   "execution_count": 14,
   "source": [
    "input = torch.tensor([[1, 1, 1, 1, 1], [1, 1, 1, 1, 1], [0, 0, 0, 1, 1], [\r\n",
    "                     1, 1, 1, 1, 1], [1, 1, 1, 1, 1]]).unsqueeze(0).float()\r\n",
    "print(input.shape)\r\n",
    "print(input)\r\n",
    "m = F.avg_pool1d(input, kernel_size=2)\r\n",
    "print(m)\r\n",
    "\r\n"
   ],
   "outputs": [
    {
     "output_type": "stream",
     "name": "stdout",
     "text": [
      "torch.Size([1, 5, 5])\n",
      "tensor([[[1., 1., 1., 1., 1.],\n",
      "         [1., 1., 1., 1., 1.],\n",
      "         [0., 0., 0., 1., 1.],\n",
      "         [1., 1., 1., 1., 1.],\n",
      "         [1., 1., 1., 1., 1.]]])\n",
      "tensor([[[1.0000, 1.0000],\n",
      "         [1.0000, 1.0000],\n",
      "         [0.0000, 0.5000],\n",
      "         [1.0000, 1.0000],\n",
      "         [1.0000, 1.0000]]])\n"
     ]
    }
   ],
   "metadata": {}
  },
  {
   "cell_type": "code",
   "execution_count": 34,
   "source": [
    "for i in range(4):\r\n",
    "    print(i)"
   ],
   "outputs": [
    {
     "output_type": "stream",
     "name": "stdout",
     "text": [
      "0\n",
      "1\n",
      "2\n",
      "3\n"
     ]
    }
   ],
   "metadata": {}
  },
  {
   "cell_type": "code",
   "execution_count": 23,
   "source": [
    "w=10 \r\n",
    "s=1 \r\n",
    "X=exp(-(2-w//2)**2/float(2*s**2))\r\n",
    "gauss=torch.Tensor([exp(-(x-w//2)**2)/float(2*s**2) for x in range(w)])\r\n",
    "print(gauss.shape)\r\n",
    "print(gauss.sum())\r\n",
    "g=gauss/gauss.sum()"
   ],
   "outputs": [
    {
     "output_type": "stream",
     "name": "stdout",
     "text": [
      "torch.Size([10])\n",
      "tensor(0.8863)\n"
     ]
    }
   ],
   "metadata": {}
  },
  {
   "cell_type": "code",
   "execution_count": 25,
   "source": [
    "d1=g.unsqueeze(1)\r\n",
    "d1.shape"
   ],
   "outputs": [
    {
     "output_type": "execute_result",
     "data": {
      "text/plain": [
       "torch.Size([10, 1])"
      ]
     },
     "metadata": {},
     "execution_count": 25
    }
   ],
   "metadata": {}
  },
  {
   "cell_type": "code",
   "execution_count": 27,
   "source": [
    "a=torch.Tensor(torch.randn(10))\r\n",
    "print(a)\r\n",
    "b=a*a \r\n",
    "print(b)"
   ],
   "outputs": [
    {
     "output_type": "stream",
     "name": "stdout",
     "text": [
      "tensor([ 0.2125, -1.2121, -0.9563, -1.5846,  1.0147, -0.2858,  0.4981,  0.9599,\n",
      "        -0.9528,  0.6813])\n",
      "tensor([0.0452, 1.4692, 0.9146, 2.5110, 1.0297, 0.0817, 0.2481, 0.9214, 0.9079,\n",
      "        0.4642])\n"
     ]
    }
   ],
   "metadata": {}
  }
 ],
 "metadata": {
  "orig_nbformat": 4,
  "language_info": {
   "name": "python",
   "version": "3.7.5",
   "mimetype": "text/x-python",
   "codemirror_mode": {
    "name": "ipython",
    "version": 3
   },
   "pygments_lexer": "ipython3",
   "nbconvert_exporter": "python",
   "file_extension": ".py"
  },
  "kernelspec": {
   "name": "python3",
   "display_name": "Python 3.7.5 64-bit ('torchenv': conda)"
  },
  "interpreter": {
   "hash": "fd2b71362e5c75a5bcc9cfc56fe2292ee1a4f5eaeedcebe0f8796ec394358735"
  }
 },
 "nbformat": 4,
 "nbformat_minor": 2
}